{
 "cells": [
  {
   "cell_type": "code",
   "execution_count": 3,
   "metadata": {},
   "outputs": [
    {
     "name": "stdout",
     "output_type": "stream",
     "text": [
      "  StateName      CountyName\n",
      "0   Alabama  Autauga County\n",
      "1   Alabama  Baldwin County\n",
      "2   Alabama  Barbour County\n",
      "3   Alabama     Bibb County\n",
      "4   Alabama   Blount County\n"
     ]
    }
   ],
   "source": [
    "import pandas as pd\n",
    "\n",
    "# URL for the list of US counties\n",
    "url = 'https://www2.census.gov/geo/docs/reference/codes/files/national_county.txt'\n",
    "\n",
    "# Read the data from the URL into a pandas DataFrame\n",
    "data = pd.read_csv(url, header=None, dtype=str)\n",
    "\n",
    "# Naming the columns for clarity\n",
    "data.columns = ['State', 'StateFP', 'CountyFP', 'CountyName', 'ClassFP']\n",
    "\n",
    "# Dictionary mapping state acronyms to full names\n",
    "states_full_name = {\n",
    "    \"AL\": \"Alabama\", \"AK\": \"Alaska\", \"AZ\": \"Arizona\", \"AR\": \"Arkansas\", \n",
    "    \"CA\": \"California\", \"CO\": \"Colorado\", \"CT\": \"Connecticut\", \"DE\": \"Delaware\", \n",
    "    \"FL\": \"Florida\", \"GA\": \"Georgia\", \"HI\": \"Hawaii\", \"ID\": \"Idaho\", \n",
    "    \"IL\": \"Illinois\", \"IN\": \"Indiana\", \"IA\": \"Iowa\", \"KS\": \"Kansas\", \n",
    "    \"KY\": \"Kentucky\", \"LA\": \"Louisiana\", \"ME\": \"Maine\", \"MD\": \"Maryland\", \n",
    "    \"MA\": \"Massachusetts\", \"MI\": \"Michigan\", \"MN\": \"Minnesota\", \"MS\": \"Mississippi\", \n",
    "    \"MO\": \"Missouri\", \"MT\": \"Montana\", \"NE\": \"Nebraska\", \"NV\": \"Nevada\", \n",
    "    \"NH\": \"New Hampshire\", \"NJ\": \"New Jersey\", \"NM\": \"New Mexico\", \"NY\": \"New York\", \n",
    "    \"NC\": \"North Carolina\", \"ND\": \"North Dakota\", \"OH\": \"Ohio\", \"OK\": \"Oklahoma\", \n",
    "    \"OR\": \"Oregon\", \"PA\": \"Pennsylvania\", \"RI\": \"Rhode Island\", \"SC\": \"South Carolina\", \n",
    "    \"SD\": \"South Dakota\", \"TN\": \"Tennessee\", \"TX\": \"Texas\", \"UT\": \"Utah\", \n",
    "    \"VT\": \"Vermont\", \"VA\": \"Virginia\", \"WA\": \"Washington\", \"WV\": \"West Virginia\", \n",
    "    \"WI\": \"Wisconsin\", \"WY\": \"Wyoming\"\n",
    "}\n",
    "\n",
    "# Replace state acronyms with full names\n",
    "data['StateName'] = data['State'].map(states_full_name)\n",
    "# remove the entries which has empty State\n",
    "data = data[data['StateName'].notna()]\n",
    "\n",
    "# Extracting the state and county names\n",
    "us_counties = data[['StateName', 'CountyName']]\n",
    "\n",
    "# Display the first few rows to check\n",
    "print(us_counties.head())\n",
    "\n",
    "# Writing the DataFrame to a jsonl file\n",
    "us_counties.to_json('./data/us_counties.jsonl', orient='records', lines=True)\n"
   ]
  }
 ],
 "metadata": {
  "kernelspec": {
   "display_name": "base",
   "language": "python",
   "name": "python3"
  },
  "language_info": {
   "codemirror_mode": {
    "name": "ipython",
    "version": 3
   },
   "file_extension": ".py",
   "mimetype": "text/x-python",
   "name": "python",
   "nbconvert_exporter": "python",
   "pygments_lexer": "ipython3",
   "version": "3.11.5"
  }
 },
 "nbformat": 4,
 "nbformat_minor": 2
}
